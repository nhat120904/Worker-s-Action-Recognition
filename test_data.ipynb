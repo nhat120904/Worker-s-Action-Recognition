{
 "cells": [
  {
   "cell_type": "code",
   "execution_count": 1,
   "metadata": {},
   "outputs": [],
   "source": [
    "import pandas as pd\n",
    "import numpy as np\n",
    "import os\n",
    "import re"
   ]
  },
  {
   "cell_type": "code",
   "execution_count": 6,
   "metadata": {},
   "outputs": [],
   "source": [
    "def categorize_sharpness(sharpness):\n",
    "    if sharpness >= 85:\n",
    "        return 'Sharp'\n",
    "    elif 70 <= sharpness < 85:\n",
    "        return 'Medium'\n",
    "    else:\n",
    "        return 'Blunt'\n",
    "    \n",
    "activity_labels = {0: \"Idle\", 1: \"Walking\", 2: \"Steeling\", 3: \"Reaching\", 4: \"Cutting\", 5: \"Slicing\", 6: \"Pulling\", 7: \"Placing\", 8: \"Dropping\"}\n",
    "\n",
    "def extract_and_categorize_sharpness(filename):\n",
    "    # Extract sharpness value using regex (assumes sharpness is the number before the last dash)\n",
    "    sharpness_value = int(re.search(r'-([0-9]+)-', filename).group(1))\n",
    "    return categorize_sharpness(sharpness_value)\n",
    "\n",
    "def split_to_chunk(df, frame_size=60, step=5, knife_label=\"None\"):\n",
    "    # Check and remove any unnecessary columns\n",
    "    df = df.drop(columns=['Unnamed: 0', 'Marker', 'Frame_acce'], errors='ignore')\n",
    "\n",
    "    if 'Label' not in df.columns:\n",
    "        raise ValueError(\"DataFrame must contain 'Label' column\")\n",
    "\n",
    "    # Split into chunks based on changes in label value\n",
    "    chunks = []\n",
    "    current_chunk = [df.iloc[0]]\n",
    "\n",
    "    for i in range(1, len(df)):\n",
    "        if df['Label'].iloc[i] == df['Label'].iloc[i - 1]:\n",
    "            current_chunk.append(df.iloc[i])\n",
    "        else:\n",
    "            chunks.append(pd.DataFrame(current_chunk))\n",
    "            current_chunk = [df.iloc[i]]\n",
    "            # display(pd.DataFrame(current_chunk))\n",
    "    chunks.append(pd.DataFrame(current_chunk))  # Append the last chunk\n",
    "\n",
    "    # print(\"Total chunks:\", len(chunks))\n",
    "\n",
    "    # samples, labels = [], []\n",
    "    output_dir = \"chunk_output\"\n",
    "    \n",
    "    # Iterate through each chunk and create samples\n",
    "    for chunk_idx, chunk in enumerate(chunks):\n",
    "        if len(chunk) >= frame_size:\n",
    "            for start in range(0, len(chunk) - frame_size + 1, step):\n",
    "                sample = chunk[start:start + frame_size]\n",
    "                label = sample['Label'].iloc[0]\n",
    "                # display(sample)\n",
    "                sample_filename = os.path.join(output_dir, f\"{activity_labels[label]}_chunk_{chunk_idx}_knife_{knife_label}.csv\")\n",
    "                sample.to_csv(sample_filename, index=False)\n",
    "                # break\n",
    "                # samples.append(sample.drop(columns=['Label']))\n",
    "                # labels.append(sample['Label'].iloc[0])  # Use the first label in the sample\n",
    "\n",
    "    # print(\"Generated samples:\", len(samples), \"Generated labels:\", len(labels))\n",
    "    # print(\"labels\", labels)\n",
    "    # return samples, labels\n"
   ]
  },
  {
   "cell_type": "code",
   "execution_count": 7,
   "metadata": {},
   "outputs": [
    {
     "name": "stdout",
     "output_type": "stream",
     "text": [
      "MVN-J-Boning-64-001.csv   Blunt\n",
      "MVN-J-Boning-64-002.csv   Blunt\n",
      "MVN-J-Boning-64-003.csv   Blunt\n",
      "MVN-J-Boning-64-004.csv   Blunt\n",
      "MVN-J-Boning-64-005.csv   Blunt\n",
      "MVN-J-Boning-64-006.csv   Blunt\n",
      "MVN-J-Boning-79-001.csv   Medium\n",
      "MVN-J-Boning-90-001.csv   Sharp\n",
      "MVN-J-Boning-90-002.csv   Sharp\n",
      "MVN-J-Boning-90-003.csv   Sharp\n",
      "MVN-J-Boning-90-004.csv   Sharp\n",
      "MVN-J-Slicing-64-001.csv   Blunt\n",
      "MVN-J-Slicing-73-001.csv   Medium\n",
      "MVN-J-Slicing-87-001.csv   Sharp\n",
      "MVN-S-Boning-63-001.csv   Blunt\n",
      "MVN-S-Boning-63-002.csv   Blunt\n",
      "MVN-S-Boning-63-003.csv   Blunt\n",
      "MVN-S-Boning-76-001.csv   Medium\n",
      "MVN-S-Boning-76-002.csv   Medium\n",
      "MVN-S-Boning-89-001.csv   Sharp\n",
      "MVN-S-Boning-89-002.csv   Sharp\n",
      "MVN-S-Boning-89-003.csv   Sharp\n",
      "MVN-S-Boning-89-004.csv   Sharp\n",
      "MVN-S-Slicing-63-001.csv   Blunt\n",
      "MVN-S-Slicing-73-001.csv   Medium\n",
      "MVN-S-Slicing-87-001.csv   Sharp\n"
     ]
    }
   ],
   "source": [
    "for file in os.listdir(\"raw_data\"):\n",
    "    if file.endswith(\".csv\"):\n",
    "        df = pd.read_csv(os.path.join(\"raw_data\", file))\n",
    "        knife_label = extract_and_categorize_sharpness(file)\n",
    "        print(file, \" \", knife_label)\n",
    "        split_to_chunk(df, knife_label=knife_label)\n",
    "        # print(len(samples), len(labels))\n",
    "        # print(labels)"
   ]
  }
 ],
 "metadata": {
  "kernelspec": {
   "display_name": "comb",
   "language": "python",
   "name": "python3"
  },
  "language_info": {
   "codemirror_mode": {
    "name": "ipython",
    "version": 3
   },
   "file_extension": ".py",
   "mimetype": "text/x-python",
   "name": "python",
   "nbconvert_exporter": "python",
   "pygments_lexer": "ipython3",
   "version": "3.11.9"
  }
 },
 "nbformat": 4,
 "nbformat_minor": 2
}
